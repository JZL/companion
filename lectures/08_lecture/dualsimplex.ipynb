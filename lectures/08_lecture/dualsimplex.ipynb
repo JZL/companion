{
 "cells": [
  {
   "cell_type": "code",
   "execution_count": 1,
   "id": "9e7a4351-6b89-4d46-abf2-1ff05278dad8",
   "metadata": {},
   "outputs": [],
   "source": [
    "import numpy as np\n",
    "import numpy.linalg as la"
   ]
  },
  {
   "cell_type": "code",
   "execution_count": 2,
   "id": "64ce4801-0a1c-4d02-ab8d-004e70d09697",
   "metadata": {},
   "outputs": [],
   "source": [
    "def dual_simplex_iteration(y, B, problem, verbose=False):\n",
    "    \"\"\"Perform one dual simplex iteration given \n",
    "    - basic dual feasible solution y\n",
    "    - basis B\n",
    "    \n",
    "    It returns new y, new basis and termination flag (true/false)\n",
    "    \"\"\"  \n",
    "    A, b, c = problem['A'], problem['b'], problem['c']\n",
    "    m, n = A.shape\n",
    "    N = np.setdiff1d(np.arange(n), B)\n",
    "    A_B = A[:, B]\n",
    "    A_N = A[:, N]\n",
    "    c_bar = c + A.T @ y\n",
    "    \n",
    "    if verbose:\n",
    "        print(\"y =\", y)\n",
    "        print(\"B =\", B)\n",
    "        print(\"-b' * y =\", -b @ y)\n",
    "        print(\"A_B =\\n\", A_B)\n",
    "        print(\"c_bar =\", c_bar)\n",
    "        \n",
    "    # Compute primal feasible solution vector\n",
    "    x = np.zeros(n)\n",
    "    x[B] = la.solve(A_B, b)\n",
    "    if verbose:\n",
    "        print(\"x\", x)   \n",
    "        \n",
    "    # Check optimality\n",
    "    if np.all(x >= 0):\n",
    "        if verbose:\n",
    "            print(\"Optimal solution found!\")\n",
    "        return y, B, True, x\n",
    "    \n",
    "    # Choose j such that x_j < 0 (first one)\n",
    "    # Exiting the basis\n",
    "    i = np.where(x < 0)[0][0]\n",
    "    if verbose:\n",
    "        print(\"i = \", i)\n",
    "        \n",
    "    # Compute search direction z\n",
    "    z = np.zeros(n)\n",
    "    z[i] = 1\n",
    "    d = la.solve(A_B.T, z[B])\n",
    "    z[N] = A_N.T @ d\n",
    "    if verbose:\n",
    "        print(\"z =\", z)\n",
    "        print(\"d =\", d)\n",
    "    \n",
    "    # Check for unboundedness\n",
    "    if np.all(z >= 0):\n",
    "        if verbose:\n",
    "            print(\"Unbounded problem!\")\n",
    "        return None, None, True, None\n",
    "    \n",
    "    # Compute step length theta\n",
    "    z_j = np.where(z[N] < 0)[0]\n",
    "    theta = np.min(- c_bar[N[z_j]] / z[N[z_j]])\n",
    "    j = N[z_j[np.argmin(- c_bar[N[z_j]] / z[N[z_j]])]]\n",
    "    if verbose:\n",
    "        print(\"j = \", j)\n",
    "        print(\"theta = min_{j | z_j < 0} (-c_bar_j/z_j) = min(\", - c_bar[N[z_j]] / z[N[z_j]], \") =\", theta)\n",
    "\n",
    "    # Compute next point\n",
    "    y_next = y + theta * d\n",
    "    if verbose:\n",
    "        print(\"y_next = y + theta * d =\", y_next)    \n",
    "    \n",
    "    # Compute next basis\n",
    "    B_next = B\n",
    "    B_next[np.where(B == i)[0]] = j    \n",
    "  \n",
    "    return y_next, B_next, False, None   \n",
    "\n",
    "    \n",
    "def dual_simplex_algorithm(y, B, problem, max_iter=1000, verbose=False):\n",
    "\n",
    "    for k in range(max_iter):\n",
    "        \n",
    "        if verbose:\n",
    "            print(\"\\nIteration\", k)\n",
    "            \n",
    "        y, B, end, x = dual_simplex_iteration(y, B, problem, verbose=verbose)\n",
    "         \n",
    "        if end:\n",
    "            break\n",
    "        \n",
    "        input(\"Press Enter to continue...\")\n",
    "    return y, B, x"
   ]
  },
  {
   "cell_type": "code",
   "execution_count": 3,
   "id": "afcabb6c-7631-47f3-b870-6460366b437d",
   "metadata": {},
   "outputs": [],
   "source": [
    "# Example primal simplex\n",
    "c = np.array([-10, -12, -12, 0, 0, 0])\n",
    "A = np.array([[1, 2, 2, 1, 0, 0],\n",
    "              [2, 1, 2, 0, 1, 0],\n",
    "              [2, 2, 1, 0, 0, 1]])\n",
    "b = np.array([20, 20, 20])\n",
    "\n",
    "# Initial point\n",
    "B0 = np.array([0, 4, 5])\n",
    "y0 = np.array([10, 0, 0])"
   ]
  },
  {
   "cell_type": "code",
   "execution_count": 4,
   "id": "24f34ce3-7065-4040-90e4-f3a606721e71",
   "metadata": {},
   "outputs": [
    {
     "name": "stdout",
     "output_type": "stream",
     "text": [
      "\n",
      "Iteration 0\n",
      "y = [10  0  0]\n",
      "B = [0 4 5]\n",
      "-b' * y = -200\n",
      "A_B =\n",
      " [[1 0 0]\n",
      " [2 1 0]\n",
      " [2 0 1]]\n",
      "c_bar = [ 0  8  8 10  0  0]\n",
      "x [ 20.   0.   0.   0. -20. -20.]\n",
      "i =  4\n",
      "z = [ 0. -3. -2. -2.  1.  0.]\n",
      "d = [-2.  1.  0.]\n",
      "j =  1\n",
      "theta = min_{j | z_j < 0} (-c_bar_j/z_j) = min( [2.66666667 4.         5.        ] ) = 2.6666666666666665\n",
      "y_next = y + theta * d = [4.66666667 2.66666667 0.        ]\n"
     ]
    },
    {
     "name": "stdin",
     "output_type": "stream",
     "text": [
      "Press Enter to continue... \n"
     ]
    },
    {
     "name": "stdout",
     "output_type": "stream",
     "text": [
      "\n",
      "Iteration 1\n",
      "y = [4.66666667 2.66666667 0.        ]\n",
      "B = [0 1 5]\n",
      "-b' * y = -146.66666666666669\n",
      "A_B =\n",
      " [[1 2 0]\n",
      " [2 1 0]\n",
      " [2 2 1]]\n",
      "c_bar = [0.         0.         2.66666667 4.66666667 2.66666667 0.        ]\n",
      "x [ 6.66666667  6.66666667  0.          0.          0.         -6.66666667]\n",
      "i =  5\n",
      "z = [ 0.          0.         -1.66666667 -0.66666667 -0.66666667  1.        ]\n",
      "d = [-0.66666667 -0.66666667  1.        ]\n",
      "j =  2\n",
      "theta = min_{j | z_j < 0} (-c_bar_j/z_j) = min( [1.6 7.  4. ] ) = 1.6000000000000005\n",
      "y_next = y + theta * d = [3.6 1.6 1.6]\n"
     ]
    },
    {
     "name": "stdin",
     "output_type": "stream",
     "text": [
      "Press Enter to continue... \n"
     ]
    },
    {
     "name": "stdout",
     "output_type": "stream",
     "text": [
      "\n",
      "Iteration 2\n",
      "y = [3.6 1.6 1.6]\n",
      "B = [0 1 2]\n",
      "-b' * y = -136.0\n",
      "A_B =\n",
      " [[1 2 2]\n",
      " [2 1 2]\n",
      " [2 2 1]]\n",
      "c_bar = [0.  0.  0.  3.6 1.6 1.6]\n",
      "x [4. 4. 4. 0. 0. 0.]\n",
      "Optimal solution found!\n"
     ]
    }
   ],
   "source": [
    "y_simplex, B_simplex, x_simplex = dual_simplex_algorithm(y0, B0, {'c': c, 'A': A, 'b': b}, verbose=True)"
   ]
  },
  {
   "cell_type": "code",
   "execution_count": null,
   "id": "9637f5dc-3c45-4689-8b19-cfd166123187",
   "metadata": {},
   "outputs": [],
   "source": []
  }
 ],
 "metadata": {
  "kernelspec": {
   "display_name": "Python 3 (ipykernel)",
   "language": "python",
   "name": "python3"
  },
  "language_info": {
   "codemirror_mode": {
    "name": "ipython",
    "version": 3
   },
   "file_extension": ".py",
   "mimetype": "text/x-python",
   "name": "python",
   "nbconvert_exporter": "python",
   "pygments_lexer": "ipython3",
   "version": "3.11.7"
  }
 },
 "nbformat": 4,
 "nbformat_minor": 5
}
