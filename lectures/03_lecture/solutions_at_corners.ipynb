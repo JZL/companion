{
 "cells": [
  {
   "cell_type": "code",
   "execution_count": 6,
   "metadata": {},
   "outputs": [],
   "source": [
    "import numpy as np\n",
    "from scipy.spatial import ConvexHull\n",
    "from scipy.spatial import HalfspaceIntersection\n",
    "import matplotlib.pyplot as plt\n",
    "import cvxpy as cp\n",
    "\n",
    "# Set up plot style\n",
    "plt.rcParams.update({\n",
    "    \"text.usetex\": True,\n",
    "    \"font.family\": \"sans-serif\",\n",
    "    \"font.sans-serif\": [\"Helvetica Neue\"],\n",
    "    \"font.size\": 20,\n",
    "    \"figure.figsize\": (9, 9), \n",
    "    \"figure.dpi\": 100})"
   ]
  },
  {
   "cell_type": "markdown",
   "metadata": {},
   "source": [
    "## Make a constraint set"
   ]
  },
  {
   "cell_type": "code",
   "execution_count": 7,
   "metadata": {},
   "outputs": [
    {
     "name": "stdout",
     "output_type": "stream",
     "text": [
      "[[-0.         -1.        ]\n",
      " [-1.          0.        ]\n",
      " [ 1.         -0.        ]\n",
      " [ 0.          1.        ]\n",
      " [ 0.70710678  0.70710678]]\n",
      "[0.5        0.5        2.         2.         2.12132034]\n"
     ]
    }
   ],
   "source": [
    "# Generate random points\n",
    "n = 2 # Dimension\n",
    "\n",
    "# random et convex hull\n",
    "N = 10 # Number of points\n",
    "#M = np.random.randn(N, n)\n",
    "\n",
    "#set from lecture \n",
    "M = np.array([[-1/2,-1/2],[-1/2,2],[2,-1/2],[2,1],[1, 2]])\n",
    "\n",
    "hull = ConvexHull(M)\n",
    "\n",
    "# Hyperplane representation\n",
    "A, b = hull.equations[:, :-1], -hull.equations[:, -1]  \n",
    "print(A)\n",
    "print(b)\n",
    "c = -np.random.randn(n); c/=np.linalg.norm(c)*2  # Normalize c by its norm  "
   ]
  },
  {
   "cell_type": "code",
   "execution_count": 8,
   "metadata": {},
   "outputs": [
    {
     "data": {
      "text/latex": [
       "$\\displaystyle \\begin{array}{ll}\\mbox{minimize} & -0.48 x_1 + 0.13 x_2\\\\\\mbox{subject to} & -0.00x_1 + -1.00x_2 \\le 0.50\\\\ & -1.00x_1 + 0.00x_2 \\le 0.50\\\\ & 1.00x_1 + -0.00x_2 \\le 2.00\\\\ & 0.00x_1 + 1.00x_2 \\le 2.00\\\\ & 0.71x_1 + 0.71x_2 \\le 2.12\\\\\\end{array}$"
      ],
      "text/plain": [
       "<IPython.core.display.Math object>"
      ]
     },
     "metadata": {},
     "output_type": "display_data"
    }
   ],
   "source": [
    "from IPython.display import display, Math, Latex\n",
    "string = r'\\begin{{array}}{{ll}}\\mbox{{minimize}} & {0:.2f} x_1 + {1:.2f} x_2\\\\'.format(c[0], c[1])\n",
    "string +=  r'\\mbox{{subject to}} & {0:.2f}x_1 + {1:.2f}x_2 \\le {2:.2f}\\\\'.format(A[0, 0], A[0, 1], b[0])\n",
    "for i in range(1, A.shape[0]):\n",
    "    string +=  r' & {0:.2f}x_1 + {1:.2f}x_2 \\le {2:.2f}\\\\'.format(A[i, 0], A[i, 1], b[i])\n",
    "string += r'\\end{array}'\n",
    "display(Math(string))"
   ]
  },
  {
   "cell_type": "code",
   "execution_count": 9,
   "metadata": {},
   "outputs": [],
   "source": [
    "# Solve with CVXPY\n",
    "x = cp.Variable(n)\n",
    "prob = cp.Problem(cp.Minimize(c @ x), [A @ x <= b])\n",
    "prob.solve()\n",
    "x_sol = x.value"
   ]
  },
  {
   "cell_type": "code",
   "execution_count": 10,
   "metadata": {},
   "outputs": [
    {
     "data": {
      "text/plain": [
       "(-1.5, 3.0)"
      ]
     },
     "execution_count": 10,
     "metadata": {},
     "output_type": "execute_result"
    },
    {
     "data": {
      "image/png": "[encoded data removed]",
      "text/plain": [
       "<Figure size 900x900 with 1 Axes>"
      ]
     },
     "metadata": {},
     "output_type": "display_data"
    }
   ],
   "source": [
    "# Plot points\n",
    "V = M[hull.vertices]  # Vertices\n",
    "x_min, x_max = V[:, 0].min(), V[:, 0].max()\n",
    "y_min, y_max = V[:, 1].min(), V[:, 1].max()\n",
    "fig, ax = plt.subplots()\n",
    "# Not: append last point to close the black lines\n",
    "ax.plot(np.append(V[:, 0], V[0, 0]), np.append(V[:, 1], V[0, 1]), color='k')\n",
    "ax.fill(V[:, 0], V[:, 1], 'k', alpha=0.2)\n",
    "ax.annotate(r'$-c$', xy=(x_max, y_max), xytext=(x_max + c[0], y_max + c[1]),\n",
    "            arrowprops={'arrowstyle': '-|>', 'color': 'k'},\n",
    "            va='center')\n",
    "ax.scatter(x_sol[0], x_sol[1], facecolors='k', edgecolors='k', s=200, zorder=10)\n",
    "ax.set_xlabel(r\"$x_1$\")\n",
    "ax.set_ylabel(r\"$x_2$\")\n",
    "ax.set_xlim([x_min - 1, x_max + 1])\n",
    "ax.set_ylim([y_min - 1, y_max + 1])\n",
    "# plt.axis('off')"
   ]
  },
  {
   "cell_type": "code",
   "execution_count": null,
   "metadata": {},
   "outputs": [],
   "source": []
  },
  {
   "cell_type": "code",
   "execution_count": null,
   "metadata": {},
   "outputs": [],
   "source": []
  }
 ],
 "metadata": {
  "kernelspec": {
   "display_name": "Python 3 (ipykernel)",
   "language": "python",
   "name": "python3"
  },
  "language_info": {
   "codemirror_mode": {
    "name": "ipython",
    "version": 3
   },
   "file_extension": ".py",
   "mimetype": "text/x-python",
   "name": "python",
   "nbconvert_exporter": "python",
   "pygments_lexer": "ipython3",
   "version": "3.11.7"
  }
 },
 "nbformat": 4,
 "nbformat_minor": 4
}
